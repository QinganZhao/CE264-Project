{
 "cells": [
  {
   "cell_type": "code",
   "execution_count": null,
   "metadata": {
    "collapsed": true
   },
   "outputs": [],
   "source": [
    "import numpy as np\n",
    "import pandas as pd"
   ]
  },
  {
   "cell_type": "code",
   "execution_count": null,
   "metadata": {
    "collapsed": true
   },
   "outputs": [],
   "source": [
    "rawData = pd.read_stata('34623-0001-Data.dta')\n",
    "selectedCol = ['SIZE', 'SEXA', 'TP5UNEMP', 'AGESTPWK', 'SZSJBHWK', 'TPJOBP', 'TPJBDP', 'SZCMTHR', 'XXJOB',\n",
    "               'XJOBDWK', 'SZTTLSTA', 'ST5JOB', 'SSJB1WK', 'SSTPUNEM', 'SSSJBHWK', 'SSTPJOB','SSTPJBDP', \n",
    "               'SSTPJBSE', 'SSXJBSCH', 'SSSZWKYR', 'SSSZSTFA', 'SPAGEX', 'SPLVTG', 'PPLVTG', 'MMLVTG', 'PPAGE', \n",
    "               'MMAGE', 'MMJOB', 'CCNUMTTL', 'CC01SEX', 'CC01AGE', 'CC02LVTG', 'CC02AGE', 'CC02MG', 'CC03MG', \n",
    "               'CC03JOB', 'CC04LVTG', 'CC04MG', 'CC05SEX', 'CC05JOB', 'CC06SEX', 'CC06AGE', 'CC07SEX', \n",
    "               'CC07LVTG', 'CC07AGE', 'CC07JOB', 'CC08MG', 'CC08JOB', 'SZFFOTHR', 'FFH01REL', 'FFH03SEX', \n",
    "               'FFH04REL', 'FFH04SEX', 'FFH05REL', 'FFH05SEX', 'FFH07REL', 'FFH07SEX', 'FFH07AGE', 'SZFFONLY', \n",
    "               'SZFFTTL', 'FFHEAD', 'SZFFOUT', 'FFO01REL', 'FFO01WHY', 'FFO02REL', 'FFO02WHY', 'FFO03REL', \n",
    "               'FFO03WHY', 'FFO05REL', 'FFO05WHY', 'FFO06REL', 'FFO06WHY', 'INCSELF', 'INCSP', 'INCPEN', \n",
    "               'INCUEB', 'INCIRR', 'INCRENT', 'INCMAIN', 'SZINCOMA', 'XNUMSISE', 'XNUMBROY', 'XSSNBROY', \n",
    "               'XSSNSISY', 'PREF15', 'TP5LOC15', 'PPJBXX15', 'PPJBSZ15', 'MMJBTP15', 'XXLSTSCH','SSLSTSCH', \n",
    "               'PPLSTSCH', 'DOLSTSCH', 'XGRADE', 'XSPSCH']"
   ]
  },
  {
   "cell_type": "code",
   "execution_count": null,
   "metadata": {
    "collapsed": true
   },
   "outputs": [],
   "source": [
    "selectedData = rawData[selectedCol]"
   ]
  },
  {
   "cell_type": "code",
   "execution_count": null,
   "metadata": {
    "collapsed": true
   },
   "outputs": [],
   "source": [
    "NAfilter = []\n",
    "for i in selectedCol:\n",
    "    if len(selectedData[selectedData[i] == 'Not applicable']) < 1500:\n",
    "        NAfilter += [i]"
   ]
  },
  {
   "cell_type": "code",
   "execution_count": null,
   "metadata": {
    "collapsed": true
   },
   "outputs": [],
   "source": [
    "selectedData = selectedData[NAfilter]"
   ]
  },
  {
   "cell_type": "code",
   "execution_count": null,
   "metadata": {
    "collapsed": true
   },
   "outputs": [],
   "source": [
    "selectedData.columns"
   ]
  },
  {
   "cell_type": "code",
   "execution_count": null,
   "metadata": {
    "collapsed": true
   },
   "outputs": [],
   "source": [
    "selectedData['SIZE'].replace('Largest cities', 1, inplace=True)\n",
    "selectedData['SIZE'].replace('Cities with population of 200000 or more', 2, inplace=True)\n",
    "selectedData['SIZE'].replace('Cities with population of less than 200000', 3, inplace=True)\n",
    "selectedData['SIZE'].replace('Town/village', 4, inplace=True)"
   ]
  },
  {
   "cell_type": "code",
   "execution_count": null,
   "metadata": {
    "collapsed": true
   },
   "outputs": [],
   "source": [
    "selectedData['SEXA'].replace('Male', 1, inplace=True)\n",
    "selectedData['SEXA'].replace('Female', 2, inplace=True)"
   ]
  },
  {
   "cell_type": "code",
   "execution_count": null,
   "metadata": {
    "collapsed": true
   },
   "outputs": [],
   "source": [
    "selectedData['SSJB1WK'].replace('He/she worked last week.', 1, inplace=True)\n",
    "selectedData['SSJB1WK'].replace('He/she was going to work last week, but did not work.', 2, inplace=True)\n",
    "selectedData['SSJB1WK'].replace('He/she did not work.', 3, inplace=True)"
   ]
  },
  {
   "cell_type": "code",
   "execution_count": null,
   "metadata": {
    "collapsed": true
   },
   "outputs": [],
   "source": [
    "selectedData['SPLVTG'].replace('Living together', 1, inplace=True)\n",
    "selectedData['SPLVTG'].replace('Not living together (because of work circumstances)', 2, inplace=True)\n",
    "selectedData['SPLVTG'].replace('Not living together (for other reasons)', 3, inplace=True)"
   ]
  },
  {
   "cell_type": "code",
   "execution_count": null,
   "metadata": {
    "collapsed": true
   },
   "outputs": [],
   "source": [
    "selectedData['PPLVTG'].replace('Living together', 1, inplace=True)\n",
    "selectedData['PPLVTG'].replace('Not living together', 2, inplace=True)\n",
    "selectedData['PPLVTG'].replace('Deceased', 3, inplace=True)"
   ]
  },
  {
   "cell_type": "code",
   "execution_count": null,
   "metadata": {
    "collapsed": true
   },
   "outputs": [],
   "source": [
    "selectedData['MMLVTG'].replace('Living together', 1, inplace=True)\n",
    "selectedData['MMLVTG'].replace('Not living together', 2, inplace=True)\n",
    "selectedData['MMLVTG'].replace('Deceased', 3, inplace=True)"
   ]
  },
  {
   "cell_type": "code",
   "execution_count": null,
   "metadata": {
    "collapsed": true
   },
   "outputs": [],
   "source": [
    "selectedData['CC01SEX'].replace('Male', 1, inplace=True)\n",
    "selectedData['CC01SEX'].replace('Female', 2, inplace=True)"
   ]
  },
  {
   "cell_type": "code",
   "execution_count": null,
   "metadata": {
    "collapsed": true
   },
   "outputs": [],
   "source": [
    "for i in np.unique(selectedData['FFHEAD']):\n",
    "    if i not in ['Respondent himself/herself', 'Husband', 'Wife']:\n",
    "        selectedData['FFHEAD'].replace(i, 4, inplace=True)\n",
    "selectedData['FFHEAD'].replace('Respondent himself/herself', 1, inplace=True)\n",
    "selectedData['FFHEAD'].replace('Husband', 2, inplace=True)\n",
    "selectedData['FFHEAD'].replace('Wife', 3, inplace=True)"
   ]
  },
  {
   "cell_type": "code",
   "execution_count": null,
   "metadata": {
    "collapsed": true
   },
   "outputs": [],
   "source": [
    "selectedData['INCSELF'].replace('Chosen', 0, inplace=True)\n",
    "selectedData['INCSELF'].replace('Not chosen', 1, inplace=True)\n",
    "selectedData['INCSP'].replace('Chosen', 1, inplace=True)\n",
    "selectedData['INCSP'].replace('Not chosen', 1, inplace=True)\n",
    "selectedData['INCPEN'].replace('Chosen', 0, inplace=True)\n",
    "selectedData['INCPEN'].replace('Not chosen', 1, inplace=True)\n",
    "selectedData['INCUEB'].replace('Chosen', 0, inplace=True)\n",
    "selectedData['INCUEB'].replace('Not chosen', 1, inplace=True)\n",
    "selectedData['INCIRR'].replace('Chosen', 0, inplace=True)\n",
    "selectedData['INCIRR'].replace('Not chosen', 1, inplace=True)\n",
    "selectedData['INCRENT'].replace('Chosen', 0, inplace=True)\n",
    "selectedData['INCRENT'].replace('Not chosen', 1, inplace=True)"
   ]
  },
  {
   "cell_type": "code",
   "execution_count": null,
   "metadata": {
    "collapsed": true
   },
   "outputs": [],
   "source": [
    "selectedData.drop('INCMAIN', axis=1, inplace=True)"
   ]
  },
  {
   "cell_type": "code",
   "execution_count": null,
   "metadata": {
    "collapsed": true
   },
   "outputs": [],
   "source": [
    "for i in np.unique(selectedData['SZINCOMA']):\n",
    "    if i == 'None':\n",
    "        selectedData['SZINCOMA'].replace(i, 1, inplace=True)\n",
    "    elif i in ['Less than 700,000 yen', '700,000 yen - 1 million yen']:\n",
    "        selectedData['SZINCOMA'].replace(i, 2, inplace=True)\n",
    "    elif i in ['1 million yen - 1.3 million yen',\n",
    "               '1.3 million yen - 1.5 million yen',\n",
    "               '1.5 million yen - 2.5 million yen']:\n",
    "        selectedData['SZINCOMA'].replace(i, 3, inplace=True)\n",
    "    elif i in ['2.5 million yen - 3.5 million yen', \n",
    "               '3.5 million yen - 4.5 million yen',\n",
    "               '4.5 million yen - 5.5 million yen',]:\n",
    "        selectedData['SZINCOMA'].replace(i, 4, inplace=True)\n",
    "    elif i in ['5.5 million yen - 6.5 million yen',\n",
    "               '6.5 million yen - 7.5 million yen',\n",
    "               '7.5 million yen - 8.5 million yen',\n",
    "               '8.5 million yen - 10 million yen',\n",
    "               '10 million yen - 12 million yen',\n",
    "               '12 million yen - 14 million yen',\n",
    "               '14 million yen - 16 million yen',\n",
    "               '16 million yen - 18.5 million yen',\n",
    "               '18.5 million yen - 23 million yen',]:\n",
    "        selectedData['SZINCOMA'].replace(i, 5, inplace=True)\n",
    "    else:\n",
    "        selectedData['SZINCOMA'].replace(i, 0, inplace=True)"
   ]
  },
  {
   "cell_type": "code",
   "execution_count": null,
   "metadata": {
    "collapsed": true
   },
   "outputs": [],
   "source": [
    "selectedData.drop('PREF15', axis=1, inplace=True)"
   ]
  },
  {
   "cell_type": "code",
   "execution_count": null,
   "metadata": {
    "collapsed": true
   },
   "outputs": [],
   "source": [
    "selectedData['TP5LOC15'].replace('Large city', 1, inplace=True)\n",
    "selectedData['TP5LOC15'].replace('Small to medium sized city', 2, inplace=True)\n",
    "selectedData['TP5LOC15'].replace('Town', 3, inplace=True)\n",
    "selectedData['TP5LOC15'].replace('Village', 4, inplace=True)"
   ]
  },
  {
   "cell_type": "code",
   "execution_count": null,
   "metadata": {
    "collapsed": true
   },
   "outputs": [],
   "source": [
    "for i in np.unique(selectedData['PPJBXX15']):\n",
    "    if i == 'managers in companies/organizations':\n",
    "        selectedData['PPJBXX15'].replace(i, 1, inplace=True)\n",
    "    elif i == 'Not applicable':\n",
    "        selectedData['PPJBXX15'].replace(i, 0, inplace=True)\n",
    "    else:\n",
    "        selectedData['PPJBXX15'].replace(i, 2, inplace=True)"
   ]
  },
  {
   "cell_type": "code",
   "execution_count": null,
   "metadata": {
    "collapsed": true
   },
   "outputs": [],
   "source": [
    "selectedData['PPJBSZ15'].replace('1', 1, inplace=True)\n",
    "selectedData['PPJBSZ15'].replace('Small company (2-29 employees)', 2, inplace=True)\n",
    "selectedData['PPJBSZ15'].replace('Medium-sized company (30-299 employees)', 3, inplace=True)\n",
    "selectedData['PPJBSZ15'].replace('Large company (300-999 employees)', 4, inplace=True)\n",
    "selectedData['PPJBSZ15'].replace('Major company (1000 or more employees', 5, inplace=True)\n",
    "selectedData['PPJBSZ15'].replace('Government agency', 6, inplace=True)\n",
    "selectedData['PPJBSZ15'].replace(\"Don't know\", 0, inplace=True)"
   ]
  },
  {
   "cell_type": "code",
   "execution_count": null,
   "metadata": {
    "collapsed": true
   },
   "outputs": [],
   "source": [
    "for i in np.unique(selectedData['MMJBTP15']):\n",
    "    if i == 'She was not working.':\n",
    "        selectedData['MMJBTP15'].replace(i, 1, inplace=True)\n",
    "    elif i == 'Temporary worker, Daily worker, Part-time temporary worker':\n",
    "        selectedData['MMJBTP15'].replace(i, 2, inplace=True) \n",
    "    elif i in [\"Regular employee - don't know about occupation\",\n",
    "               'Regular employee - managerial position',\n",
    "               'Regular employee - non-management',\n",
    "               'Regular employee - professional (nurse, teacher, etc.)']:\n",
    "        selectedData['MMJBTP15'].replace(i, 3, inplace=True)\n",
    "    elif i in [\"Don't know\", 'No answer']:\n",
    "        selectedData['MMJBTP15'].replace(i, 0, inplace=True)\n",
    "    else:\n",
    "        selectedData['MMJBTP15'].replace(i, 4, inplace=True)"
   ]
  },
  {
   "cell_type": "code",
   "execution_count": null,
   "metadata": {
    "collapsed": true
   },
   "outputs": [],
   "source": [
    "for i in np.unique(selectedData['XXLSTSCH']):\n",
    "    if i in ['Ordinary elementary school in the old system',\n",
    "             'Higher elementary school in the old system']:\n",
    "        selectedData['XXLSTSCH'].replace(i, 1, inplace=True)\n",
    "    elif i in [\"Junior high school/Girls' high school in the old system\",\n",
    "             'Vocational school/Commerce school in the old system',\n",
    "             'Normal school in the old system',\n",
    "             'Higher school or vocational school in the old system',\n",
    "             'Junior high school',\n",
    "             'High school']:\n",
    "        selectedData['XXLSTSCH'].replace(i, 2, inplace=True)\n",
    "    elif i in ['No answer', \"Don't know\"]:\n",
    "        selectedData['XXLSTSCH'].replace(i, 0, inplace=True)\n",
    "    else:\n",
    "        selectedData['XXLSTSCH'].replace(i, 3, inplace=True)"
   ]
  },
  {
   "cell_type": "code",
   "execution_count": null,
   "metadata": {
    "collapsed": true
   },
   "outputs": [],
   "source": [
    "for i in np.unique(selectedData['SSLSTSCH']):\n",
    "    if i in ['Ordinary elementary school in the old system',\n",
    "             'Higher elementary school in the old system']:\n",
    "        selectedData['SSLSTSCH'].replace(i, 1, inplace=True)\n",
    "    elif i in [\"Junior high school/Girls' high school in the old system\",\n",
    "             'Vocational school/Commerce school in the old system',\n",
    "             'Normal school in the old system',\n",
    "             'Higher school or vocational school in the old system',\n",
    "             'Junior high school',\n",
    "             'High school']:\n",
    "        selectedData['SSLSTSCH'].replace(i, 2, inplace=True)\n",
    "    elif i in ['No answer', \"Don't know\", 'Never-married/Divorced']:\n",
    "        selectedData['SSLSTSCH'].replace(i, 0, inplace=True)\n",
    "    else:\n",
    "        selectedData['SSLSTSCH'].replace(i, 3, inplace=True)"
   ]
  },
  {
   "cell_type": "code",
   "execution_count": null,
   "metadata": {
    "collapsed": true
   },
   "outputs": [],
   "source": [
    "for i in np.unique(selectedData['PPLSTSCH']):\n",
    "    if i in ['Ordinary elementary school in the old system',\n",
    "             'Higher elementary school in the old system']:\n",
    "        selectedData['PPLSTSCH'].replace(i, 1, inplace=True)\n",
    "    elif i in [\"Junior high school/Girls' high school in the old system\",\n",
    "             'Vocational school/Commerce school in the old system',\n",
    "             'Normal school in the old system',\n",
    "             'Higher school or vocational school in the old system',\n",
    "             'Junior high school',\n",
    "             'High school']:\n",
    "        selectedData['PPLSTSCH'].replace(i, 2, inplace=True)\n",
    "    elif i in ['No answer', \"Don't know\"]:\n",
    "        selectedData['PPLSTSCH'].replace(i, 0, inplace=True)\n",
    "    else:\n",
    "        selectedData['PPLSTSCH'].replace(i, 3, inplace=True)"
   ]
  },
  {
   "cell_type": "code",
   "execution_count": null,
   "metadata": {
    "collapsed": true
   },
   "outputs": [],
   "source": [
    "selectedData['DOLSTSCH'].replace('Graduated', 1, inplace=True)\n",
    "selectedData['DOLSTSCH'].replace('Quit', 2, inplace=True)\n",
    "selectedData['DOLSTSCH'].replace('Still a student', 3, inplace=True)"
   ]
  },
  {
   "cell_type": "code",
   "execution_count": null,
   "metadata": {
    "collapsed": true
   },
   "outputs": [],
   "source": [
    "selectedData['XSPSCH'].replace('Yes', 1, inplace=True)\n",
    "selectedData['XSPSCH'].replace('No', 2, inplace=True)"
   ]
  },
  {
   "cell_type": "code",
   "execution_count": null,
   "metadata": {
    "collapsed": true
   },
   "outputs": [],
   "source": [
    "selectedData.replace('No answer', 0, inplace=True)\n",
    "selectedData.replace('Not applicable', 0, inplace=True)"
   ]
  },
  {
   "cell_type": "code",
   "execution_count": null,
   "metadata": {
    "collapsed": true
   },
   "outputs": [],
   "source": [
    "cleanedData = selectedData.copy()\n",
    "observation = np.array(rawData['MARC'])"
   ]
  },
  {
   "cell_type": "code",
   "execution_count": null,
   "metadata": {
    "collapsed": true
   },
   "outputs": [],
   "source": [
    "cleanedObservation = np.zeros(len(observation))\n",
    "for i in range(len(observation)):\n",
    "    if observation[i] == 'Currently married':\n",
    "        cleanedObservation[i] = 1\n",
    "    else:\n",
    "        cleanedObservation[i] = 2\n",
    "cleanedObservation = cleanedObservation.astype(int)"
   ]
  },
  {
   "cell_type": "code",
   "execution_count": null,
   "metadata": {
    "collapsed": true
   },
   "outputs": [],
   "source": [
    "sum(cleanedObservation == 1)"
   ]
  },
  {
   "cell_type": "code",
   "execution_count": null,
   "metadata": {
    "collapsed": true
   },
   "outputs": [],
   "source": [
    "selectedData.drop('SSJB1WK', axis=1, inplace=True)\n",
    "selectedData.drop('SPAGEX', axis=1, inplace=True)\n",
    "selectedData.drop('SPLVTG', axis=1, inplace=True)\n",
    "selectedData.drop('INCSP', axis=1, inplace=True)\n",
    "selectedData.drop('SSLSTSCH', axis=1, inplace=True)\n",
    "selectedData.drop('XSSNBROY', axis=1, inplace=True)\n",
    "selectedData.drop('XSSNSISY', axis=1, inplace=True)\n",
    "\n",
    "selectedData.drop('CCNUMTTL', axis=1, inplace=True)\n",
    "selectedData.drop('CC01SEX', axis=1, inplace=True)\n",
    "selectedData.drop('CC01AGE', axis=1, inplace=True)\n",
    "selectedData.drop('SZFFOTHR', axis=1, inplace=True)\n",
    "selectedData.drop('SZFFONLY', axis=1, inplace=True)\n",
    "selectedData.drop('SZFFTTL', axis=1, inplace=True)\n",
    "selectedData.drop('FFHEAD', axis=1, inplace=True)"
   ]
  },
  {
   "cell_type": "code",
   "execution_count": null,
   "metadata": {
    "collapsed": true
   },
   "outputs": [],
   "source": [
    "from utils import *\n",
    "X, y = dataCleaning(classNum=3)\n",
    "y = pd.DataFrame(y.reshape(len(y),1))\n",
    "y.columns = ['MARC']"
   ]
  },
  {
   "cell_type": "code",
   "execution_count": null,
   "metadata": {
    "collapsed": true
   },
   "outputs": [],
   "source": [
    "X.to_csv('X.csv')\n",
    "y.to_csv('y.csv')"
   ]
  }
 ],
 "metadata": {
  "kernelspec": {
   "display_name": "Python 3",
   "language": "python",
   "name": "python3"
  },
  "language_info": {
   "codemirror_mode": {
    "name": "ipython",
    "version": 3
   },
   "file_extension": ".py",
   "mimetype": "text/x-python",
   "name": "python",
   "nbconvert_exporter": "python",
   "pygments_lexer": "ipython3",
   "version": "3.6.3"
  }
 },
 "nbformat": 4,
 "nbformat_minor": 2
}
