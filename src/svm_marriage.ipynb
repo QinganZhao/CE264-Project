{
 "cells": [
  {
   "cell_type": "code",
   "execution_count": 55,
   "metadata": {
    "collapsed": true
   },
   "outputs": [],
   "source": [
    "import pandas as pd\n",
    "import numpy as np\n",
    "from sklearn.svm import SVC\n",
    "import sklearn"
   ]
  },
  {
   "cell_type": "code",
   "execution_count": 63,
   "metadata": {},
   "outputs": [],
   "source": [
    "def svm_test():\n",
    "    #you need to import pandas, numpy, sklearn.svm.SVC, sklearn to use this function\n",
    "    data = pd.read_csv('cleanedData.csv',header = None)\n",
    "    data = np.asarray(data)[1:,1:]\n",
    "    result = pd.read_csv('cleanedObservation.csv',header = None)\n",
    "    result = np.asarray(result)[1:,1]\n",
    "    trainSample = np.random.choice(range(5000), 4000, replace=False)\n",
    "    trainData = data[trainSample,:]\n",
    "    trainObservation = result[trainSample]\n",
    "    testSample = np.setdiff1d(np.arange(5003), trainSample)\n",
    "    testData = data[testSample,:]\n",
    "    testObservation = result[testSample]\n",
    "    prediction = clf.predict(testData)\n",
    "    accuracy = np.sum(np.abs(prediction.astype(int) - testObservation.astype(int)))\n",
    "    score = sklearn.metrics.accuracy_score(testObservation, prediction)\n",
    "    return accuracy, score"
   ]
  },
  {
   "cell_type": "code",
   "execution_count": 64,
   "metadata": {},
   "outputs": [
    {
     "name": "stdout",
     "output_type": "stream",
     "text": [
      "1 0.999002991027\n"
     ]
    }
   ],
   "source": [
    "num, score = svm_test()\n",
    "print num, score"
   ]
  }
 ],
 "metadata": {
  "kernelspec": {
   "display_name": "Python 2",
   "language": "python",
   "name": "python2"
  },
  "language_info": {
   "codemirror_mode": {
    "name": "ipython",
    "version": 2
   },
   "file_extension": ".py",
   "mimetype": "text/x-python",
   "name": "python",
   "nbconvert_exporter": "python",
   "pygments_lexer": "ipython2",
   "version": "2.7.13"
  }
 },
 "nbformat": 4,
 "nbformat_minor": 2
}
