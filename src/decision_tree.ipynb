{
 "cells": [
  {
   "cell_type": "code",
   "execution_count": 89,
   "metadata": {},
   "outputs": [],
   "source": [
    "from sklearn.feature_selection import SelectKBest\n",
    "from sklearn.feature_selection import chi2\n",
    "from sklearn import tree\n",
    "from sklearn import  metrics\n",
    "import pandas as pd\n",
    "import numpy as np\n",
    "import matplotlib.pyplot as plt\n",
    "import seaborn as sns\n",
    "\n"
   ]
  },
  {
   "cell_type": "code",
   "execution_count": 90,
   "metadata": {},
   "outputs": [],
   "source": [
    "def decision_tree():\n",
    "    df1 = pd.read_csv('cleanedData.csv')\n",
    "    df2 = pd.read_csv('cleanedObservation.csv')\n",
    "    x = df1[df1.columns[1:]]\n",
    "    y = df2['MARC']\n",
    "    x_new = SelectKBest(chi2, k=10).fit_transform(x, y)\n",
    "    x_train,x_test,y_train,y_test = cross_validation.train_test_split(x_new,y,test_size=0.4,random_state=0)\n",
    "    score = []\n",
    "    i_range = range(3,40)\n",
    "    for i in range(3,40):\n",
    "        clf = tree.DecisionTreeClassifier(max_depth=i)\n",
    "        clf = clf.fit(x_train,y_train)\n",
    "        score.append((clf.score(x_test,y_test)))\n",
    "##plt.plot(i_range, score)\n",
    "    depth = score.index(max(score)) + 5\n",
    "    clf = tree.DecisionTreeClassifier(max_depth= depth)\n",
    "    clf = clf.fit(x_train,y_train)\n",
    "    score = max(score)\n",
    "    accuracy = np.sum(np.abs(clf.predict(x_test).astype(int) - y_test.astype(int)))\n",
    "    return score, accuracy,metrics.confusion_matrix(y_test, clf.predict(x_test))"
   ]
  },
  {
   "cell_type": "code",
   "execution_count": 91,
   "metadata": {},
   "outputs": [
    {
     "name": "stdout",
     "output_type": "stream",
     "text": [
      "0.9995004995004995 1 [[1428    0]\n",
      " [   1  573]]\n"
     ]
    }
   ],
   "source": [
    "score, accuracy, matrix = decision_tree()\n",
    "print num,accuracy,matrix"
   ]
  },
  {
   "cell_type": "code",
   "execution_count": null,
   "metadata": {
    "scrolled": true
   },
   "outputs": [],
   "source": []
  },
  {
   "cell_type": "code",
   "execution_count": null,
   "metadata": {},
   "outputs": [],
   "source": []
  },
  {
   "cell_type": "code",
   "execution_count": null,
   "metadata": {},
   "outputs": [],
   "source": []
  },
  {
   "cell_type": "code",
   "execution_count": null,
   "metadata": {},
   "outputs": [],
   "source": [
    "\n"
   ]
  },
  {
   "cell_type": "code",
   "execution_count": null,
   "metadata": {},
   "outputs": [],
   "source": []
  },
  {
   "cell_type": "code",
   "execution_count": null,
   "metadata": {},
   "outputs": [],
   "source": []
  },
  {
   "cell_type": "code",
   "execution_count": null,
   "metadata": {},
   "outputs": [],
   "source": []
  },
  {
   "cell_type": "code",
   "execution_count": null,
   "metadata": {},
   "outputs": [],
   "source": []
  },
  {
   "cell_type": "code",
   "execution_count": null,
   "metadata": {},
   "outputs": [],
   "source": []
  },
  {
   "cell_type": "code",
   "execution_count": null,
   "metadata": {},
   "outputs": [],
   "source": []
  },
  {
   "cell_type": "code",
   "execution_count": null,
   "metadata": {},
   "outputs": [],
   "source": []
  },
  {
   "cell_type": "code",
   "execution_count": null,
   "metadata": {},
   "outputs": [],
   "source": []
  }
 ],
 "metadata": {
  "kernelspec": {
   "display_name": "Python 2",
   "language": "python",
   "name": "python2"
  },
  "language_info": {
   "codemirror_mode": {
    "name": "ipython",
    "version": 2
   },
   "file_extension": ".py",
   "mimetype": "text/x-python",
   "name": "python",
   "nbconvert_exporter": "python",
   "pygments_lexer": "ipython2",
   "version": "2.7.14"
  }
 },
 "nbformat": 4,
 "nbformat_minor": 2
}
